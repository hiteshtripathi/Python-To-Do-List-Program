{
 "cells": [
  {
   "cell_type": "code",
   "execution_count": 6,
   "metadata": {},
   "outputs": [],
   "source": [
    "user_input = 'random'\n",
    "data = []"
   ]
  },
  {
   "cell_type": "code",
   "execution_count": 7,
   "metadata": {},
   "outputs": [],
   "source": [
    "def show_menu():\n",
    "    print('Menu:')\n",
    "    print('1.Add an item')\n",
    "    print('2.Mark as done')\n",
    "    print('3.View as items')\n",
    "    print('4.Exit')"
   ]
  },
  {
   "cell_type": "code",
   "execution_count": 8,
   "metadata": {},
   "outputs": [
    {
     "name": "stdout",
     "output_type": "stream",
     "text": [
      "Menu:\n",
      "1.Add an item\n",
      "2.Mark as done\n",
      "3.View as items\n",
      "4.Exit\n",
      "Enter your choice: 1\n",
      "What is to be done?buy apple\n",
      "Added item buy apple\n",
      "Menu:\n",
      "1.Add an item\n",
      "2.Mark as done\n",
      "3.View as items\n",
      "4.Exit\n",
      "Enter your choice: buy something\n",
      "Please enter one of the 1,2,3 or 4\n",
      "Menu:\n",
      "1.Add an item\n",
      "2.Mark as done\n",
      "3.View as items\n",
      "4.Exit\n",
      "Enter your choice: 3\n",
      "/nList of To-Do items:------>\n",
      "buy apple\n",
      "View the to do items\n",
      "Menu:\n",
      "1.Add an item\n",
      "2.Mark as done\n",
      "3.View as items\n",
      "4.Exit\n",
      "Enter your choice: 4\n",
      "Goodbye\n"
     ]
    }
   ],
   "source": [
    "while user_input !='4':\n",
    "    \n",
    "    show_menu()\n",
    "    user_input = input('Enter your choice: ')\n",
    "    \n",
    "    if user_input == '1':\n",
    "        item = input('What is to be done?')\n",
    "        data.append(item)\n",
    "        print ('Added item', item)\n",
    "    elif user_input == '2':\n",
    "        item = input('What is to be marked as done?')\n",
    "        if item in data:\n",
    "            data.remove(item)\n",
    "            print ('Removed item:', item)\n",
    "        else:\n",
    "            print('Item does not exist in the list')\n",
    "    elif user_input == '3':\n",
    "        print ('<------List of To Do items:------>')\n",
    "        for item in data:\n",
    "            print(item)\n",
    "        print('View the to do items')    \n",
    "    elif user_input == '4':\n",
    "        print('Goodbye')    \n",
    "    else:\n",
    "        print('Please enter one of the 1,2,3 or 4')    "
   ]
  },
  {
   "cell_type": "code",
   "execution_count": null,
   "metadata": {},
   "outputs": [],
   "source": []
  },
  {
   "cell_type": "code",
   "execution_count": null,
   "metadata": {},
   "outputs": [],
   "source": []
  },
  {
   "cell_type": "code",
   "execution_count": null,
   "metadata": {},
   "outputs": [],
   "source": []
  },
  {
   "cell_type": "code",
   "execution_count": null,
   "metadata": {},
   "outputs": [],
   "source": []
  },
  {
   "cell_type": "code",
   "execution_count": null,
   "metadata": {},
   "outputs": [],
   "source": []
  },
  {
   "cell_type": "code",
   "execution_count": null,
   "metadata": {},
   "outputs": [],
   "source": []
  },
  {
   "cell_type": "code",
   "execution_count": null,
   "metadata": {},
   "outputs": [],
   "source": []
  },
  {
   "cell_type": "code",
   "execution_count": null,
   "metadata": {},
   "outputs": [],
   "source": []
  },
  {
   "cell_type": "code",
   "execution_count": null,
   "metadata": {},
   "outputs": [],
   "source": []
  },
  {
   "cell_type": "code",
   "execution_count": null,
   "metadata": {},
   "outputs": [],
   "source": []
  },
  {
   "cell_type": "code",
   "execution_count": null,
   "metadata": {},
   "outputs": [],
   "source": []
  },
  {
   "cell_type": "code",
   "execution_count": null,
   "metadata": {},
   "outputs": [],
   "source": []
  },
  {
   "cell_type": "code",
   "execution_count": null,
   "metadata": {},
   "outputs": [],
   "source": []
  }
 ],
 "metadata": {
  "kernelspec": {
   "display_name": "Python 3",
   "language": "python",
   "name": "python3"
  },
  "language_info": {
   "codemirror_mode": {
    "name": "ipython",
    "version": 3
   },
   "file_extension": ".py",
   "mimetype": "text/x-python",
   "name": "python",
   "nbconvert_exporter": "python",
   "pygments_lexer": "ipython3",
   "version": "3.6.5"
  }
 },
 "nbformat": 4,
 "nbformat_minor": 2
}
