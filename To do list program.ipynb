{
 "cells": [
  {
   "cell_type": "markdown",
   "metadata": {},
   "source": [
    "# This simple Python program - To do List"
   ]
  },
  {
   "cell_type": "markdown",
   "metadata": {},
   "source": [
    "Program uses simple and basic python codes for capture data...just to remember as list."
   ]
  },
  {
   "cell_type": "markdown",
   "metadata": {},
   "source": [
    "Step 1: Entering input data to add in the list. Data will be added one by one and stored in list."
   ]
  },
  {
   "cell_type": "code",
   "execution_count": 1,
   "metadata": {},
   "outputs": [],
   "source": [
    "user_input = 'random'\n",
    "data = []"
   ]
  },
  {
   "cell_type": "markdown",
   "metadata": {},
   "source": [
    "Step 2: Build a function, for options or tasks to be performed for to do list."
   ]
  },
  {
   "cell_type": "code",
   "execution_count": 2,
   "metadata": {},
   "outputs": [],
   "source": [
    "def show_menu():\n",
    "    print('Menu:')\n",
    "    print('1.Add an item')\n",
    "    print('2.Mark as done')\n",
    "    print('3.View as items')\n",
    "    print('4.Exit')"
   ]
  },
  {
   "cell_type": "markdown",
   "metadata": {},
   "source": [
    "Step 3: Loop things for concurrent addition or editing (Done/View) or exit. All codes used in this step performs loop or selection of statements using if else statements on lists which is made in step1."
   ]
  },
  {
   "cell_type": "code",
   "execution_count": 3,
   "metadata": {},
   "outputs": [
    {
     "name": "stdout",
     "output_type": "stream",
     "text": [
      "Menu:\n",
      "1.Add an item\n",
      "2.Mark as done\n",
      "3.View as items\n",
      "4.Exit\n",
      "Enter your choice: 1\n",
      "What is to be done?Learn Python...\n",
      "Added item Learn Python...\n",
      "Menu:\n",
      "1.Add an item\n",
      "2.Mark as done\n",
      "3.View as items\n",
      "4.Exit\n",
      "Enter your choice: 1\n",
      "What is to be done?Learn Python Librarires\n",
      "Added item Learn Python Librarires\n",
      "Menu:\n",
      "1.Add an item\n",
      "2.Mark as done\n",
      "3.View as items\n",
      "4.Exit\n",
      "Enter your choice: 1\n",
      "What is to be done?Learn Data Analysis\n",
      "Added item Learn Data Analysis\n",
      "Menu:\n",
      "1.Add an item\n",
      "2.Mark as done\n",
      "3.View as items\n",
      "4.Exit\n",
      "Enter your choice: 1\n",
      "What is to be done?Build Project\n",
      "Added item Build Project\n",
      "Menu:\n",
      "1.Add an item\n",
      "2.Mark as done\n",
      "3.View as items\n",
      "4.Exit\n",
      "Enter your choice: 3\n",
      "<------List of To Do items:------>\n",
      "Learn Python...\n",
      "Learn Python Librarires\n",
      "Learn Data Analysis\n",
      "Build Project\n",
      "View the to do items\n",
      "Menu:\n",
      "1.Add an item\n",
      "2.Mark as done\n",
      "3.View as items\n",
      "4.Exit\n",
      "Enter your choice: 2\n",
      "What is to be marked as done?Build Project\n",
      "Removed item: Build Project\n",
      "Menu:\n",
      "1.Add an item\n",
      "2.Mark as done\n",
      "3.View as items\n",
      "4.Exit\n",
      "Enter your choice: 3\n",
      "<------List of To Do items:------>\n",
      "Learn Python...\n",
      "Learn Python Librarires\n",
      "Learn Data Analysis\n",
      "View the to do items\n",
      "Menu:\n",
      "1.Add an item\n",
      "2.Mark as done\n",
      "3.View as items\n",
      "4.Exit\n",
      "Enter your choice: 4\n",
      "Goodbye\n"
     ]
    }
   ],
   "source": [
    "while user_input !='4':\n",
    "    \n",
    "    show_menu()\n",
    "    user_input = input('Enter your choice: ')\n",
    "    \n",
    "    if user_input == '1':\n",
    "        item = input('What is to be done?')\n",
    "        data.append(item)\n",
    "        print ('Added item', item)\n",
    "    elif user_input == '2':\n",
    "        item = input('What is to be marked as done?')\n",
    "        if item in data:\n",
    "            data.remove(item)\n",
    "            print ('Removed item:', item)\n",
    "        else:\n",
    "            print('Item does not exist in the list')\n",
    "    elif user_input == '3':\n",
    "        print ('<------List of To Do items:------>')\n",
    "        for item in data:\n",
    "            print(item)\n",
    "        print('View the to do items')    \n",
    "    elif user_input == '4':\n",
    "        print('Goodbye')    \n",
    "    else:\n",
    "        print('Please enter one of the 1,2,3 or 4')    "
   ]
  },
  {
   "cell_type": "code",
   "execution_count": null,
   "metadata": {},
   "outputs": [],
   "source": []
  }
 ],
 "metadata": {
  "kernelspec": {
   "display_name": "Python 3",
   "language": "python",
   "name": "python3"
  },
  "language_info": {
   "codemirror_mode": {
    "name": "ipython",
    "version": 3
   },
   "file_extension": ".py",
   "mimetype": "text/x-python",
   "name": "python",
   "nbconvert_exporter": "python",
   "pygments_lexer": "ipython3",
   "version": "3.6.5"
  }
 },
 "nbformat": 4,
 "nbformat_minor": 2
}
